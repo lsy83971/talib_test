{
 "cells": [
  {
   "cell_type": "code",
   "execution_count": 101,
   "id": "d54074c3",
   "metadata": {},
   "outputs": [],
   "source": [
    "import sys\n",
    "sys.path.append(\"/home/lishiyu/talib_test/data_process/\")\n",
    "import matplotlib.pyplot as plt\n",
    "import pandas as pd\n",
    "pd.set_option(\"display.max_rows\",500)\n",
    "pd.set_option(\"display.max_columns\",2000)\n",
    "import warnings\n",
    "warnings.filterwarnings(\"ignore\")"
   ]
  },
  {
   "cell_type": "code",
   "execution_count": 68,
   "id": "dbc71aed",
   "metadata": {},
   "outputs": [],
   "source": [
    "from common.show_pv_tab import show_pv_tab,show3"
   ]
  },
  {
   "cell_type": "code",
   "execution_count": 53,
   "id": "76ed6222",
   "metadata": {},
   "outputs": [],
   "source": [
    "from data_process.local_sql import read_sql,exch_detail"
   ]
  },
  {
   "cell_type": "code",
   "execution_count": 48,
   "id": "c4469cf7",
   "metadata": {},
   "outputs": [],
   "source": [
    "tb=exch_detail(\"rb\")\n",
    "tb.get_columns()\n",
    "\n",
    "df=read_sql(f\"\"\"\n",
    "select {\",\".join(tb.col_type[\"name\"].tolist())} from rb.tickdata limit 100000\n",
    "\"\"\")"
   ]
  },
  {
   "cell_type": "code",
   "execution_count": 103,
   "id": "6e450573",
   "metadata": {},
   "outputs": [],
   "source": [
    "show_df=show3(df,1500,1500)"
   ]
  },
  {
   "cell_type": "code",
   "execution_count": 105,
   "id": "1934f12d",
   "metadata": {},
   "outputs": [],
   "source": [
    "show_df.to_excel(\"./test.xlsx\")"
   ]
  },
  {
   "cell_type": "code",
   "execution_count": null,
   "id": "725500df",
   "metadata": {},
   "outputs": [],
   "source": []
  }
 ],
 "metadata": {
  "kernelspec": {
   "display_name": "Python 3",
   "language": "python",
   "name": "python3"
  },
  "language_info": {
   "codemirror_mode": {
    "name": "ipython",
    "version": 3
   },
   "file_extension": ".py",
   "mimetype": "text/x-python",
   "name": "python",
   "nbconvert_exporter": "python",
   "pygments_lexer": "ipython3",
   "version": "3.6.8"
  }
 },
 "nbformat": 4,
 "nbformat_minor": 5
}
