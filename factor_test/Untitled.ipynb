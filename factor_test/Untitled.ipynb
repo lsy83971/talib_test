{
 "cells": [
  {
   "cell_type": "code",
   "execution_count": 1,
   "id": "d54074c3",
   "metadata": {},
   "outputs": [],
   "source": [
    "import sys\n",
    "sys.path.append(\"/home/lishiyu/talib_test/data_process/\")\n",
    "import matplotlib.pyplot as plt\n",
    "import pandas as pd\n",
    "pd.set_option(\"display.max_rows\",500)\n",
    "pd.set_option(\"display.max_columns\",2000)\n",
    "import warnings\n",
    "from IPython.display import display\n",
    "warnings.filterwarnings(\"ignore\")"
   ]
  },
  {
   "cell_type": "code",
   "execution_count": 68,
   "id": "dbc71aed",
   "metadata": {},
   "outputs": [],
   "source": [
    "from common.show_pv_tab import show_pv_tab,show3\n",
    "\n",
    "from data_process.local_sql import read_sql,exch_detail\n",
    "from data_process.kline import table_kline_period"
   ]
  },
  {
   "cell_type": "code",
   "execution_count": null,
   "id": "386e24cb",
   "metadata": {},
   "outputs": [],
   "source": [
    "tb=exch_detail(\"rb\")"
   ]
  },
  {
   "cell_type": "code",
   "execution_count": 282,
   "id": "466561b7",
   "metadata": {},
   "outputs": [],
   "source": [
    "tb1=table_kline_period(\"rb\",1)\n",
    "tb1.get_columns()"
   ]
  },
  {
   "cell_type": "code",
   "execution_count": 294,
   "id": "c4469cf7",
   "metadata": {},
   "outputs": [],
   "source": [
    "tb=exch_detail(\"rb\")\n",
    "tb.get_columns()\n",
    "\n",
    "df=read_sql(f\"\"\"\n",
    "select \n",
    "{\",\".join(('a.'+tb.col_type[\"name\"]).tolist())},\n",
    "{\",\".join(('b.'+tb1.col_type[\"name\"].cc(\"MRM|MRT\")).tolist())} \n",
    "from rb.tickdata as a\n",
    "inner join rb.kline_1 as b\n",
    "on a.date=b.date\n",
    "and a.time=b.time\n",
    "order by date,time\n",
    "\"\"\")"
   ]
  },
  {
   "cell_type": "code",
   "execution_count": 295,
   "id": "a9684f67",
   "metadata": {},
   "outputs": [
    {
     "data": {
      "text/plain": [
       "(4152511, 114)"
      ]
     },
     "execution_count": 295,
     "metadata": {},
     "output_type": "execute_result"
    }
   ],
   "source": [
    "df.shape"
   ]
  },
  {
   "cell_type": "code",
   "execution_count": 103,
   "id": "6e450573",
   "metadata": {},
   "outputs": [],
   "source": [
    "#show_df=show3(df,1500,1500)\n",
    "#show_df.to_excel(\"./test.xlsx\")"
   ]
  },
  {
   "cell_type": "markdown",
   "id": "a6cf5829",
   "metadata": {},
   "source": [
    "# 1.关于盘口的一些大数据"
   ]
  },
  {
   "cell_type": "code",
   "execution_count": 160,
   "id": "725500df",
   "metadata": {},
   "outputs": [
    {
     "data": {
      "text/plain": [
       "1    495711\n",
       "2      4258\n",
       "3        22\n",
       "4         5\n",
       "6         2\n",
       "5         2\n",
       "dtype: int64"
      ]
     },
     "execution_count": 160,
     "metadata": {},
     "output_type": "execute_result"
    }
   ],
   "source": [
    "display((df[\"AP1\"]-df[\"BP1\"]).value_counts())\n",
    "display((df[\"AP1\"]-df[\"AP1_last\"]).value_counts().sort_index())\n",
    "display((df[\"BP1\"]-df[\"BP1_last\"]).value_counts().sort_index())"
   ]
  },
  {
   "cell_type": "code",
   "execution_count": 296,
   "id": "020f9855",
   "metadata": {},
   "outputs": [],
   "source": [
    "# AP1_last-----df_AP1-----AP1\n",
    "#    |                     |  \n",
    "#    |                     |  \n",
    "# df1_last                df1\n",
    "#    |                     |  \n",
    "#    |                     |\n",
    "# BP1_last-----df_BP1-----BP1  \n",
    "\n",
    "dif1=df[\"AP1\"]-df[\"BP1\"]\n",
    "dif1_last=df[\"AP1_last\"]-df[\"BP1_last\"]\n",
    "\n",
    "dif_AP1=df[\"AP1\"]-df[\"AP1_last\"]\n",
    "dif_BP1=df[\"BP1\"]-df[\"BP1_last\"]\n",
    "\n",
    "pv_type=pd.concat([dif1,\n",
    "    dif1_last,\n",
    "    dif_AP1,\n",
    "    dif_BP1],axis=1).apply(lambda x:tuple(x),axis=1)"
   ]
  },
  {
   "cell_type": "code",
   "execution_count": 171,
   "id": "fcc69429",
   "metadata": {
    "collapsed": true
   },
   "outputs": [
    {
     "data": {
      "text/plain": [
       "-40.0         1\n",
       "-11.0         1\n",
       "-8.0          1\n",
       "-7.0          1\n",
       "-6.0          3\n",
       "-4.0          2\n",
       "-3.0          3\n",
       "-2.0          5\n",
       "-1.0          5\n",
       " 0.0     499955\n",
       " 1.0          5\n",
       " 2.0          2\n",
       " 3.0          2\n",
       " 4.0          1\n",
       " 5.0          2\n",
       " 6.0          1\n",
       " 7.0          2\n",
       " 9.0          1\n",
       " 10.0         2\n",
       " 14.0         1\n",
       " 15.0         1\n",
       " 24.0         1\n",
       " 29.0         1\n",
       "dtype: int64"
      ]
     },
     "execution_count": 171,
     "metadata": {},
     "output_type": "execute_result"
    }
   ],
   "source": [
    "(df[\"AP1\"].shift(1)-df[\"AP1_last\"]).value_counts().sort_index()"
   ]
  },
  {
   "cell_type": "code",
   "execution_count": 297,
   "id": "fd3d4ccf",
   "metadata": {},
   "outputs": [],
   "source": [
    "# 3700 3700\n",
    "# 3699 3699\n",
    "status1=(pv_type==(1,1,0,0))\n",
    "# 3700 3700\n",
    "# 3699 \n",
    "#      3698\n",
    "status1_down_hf=(pv_type==(2,1,0,-1))\n",
    "# 3700 \n",
    "# 3699 3699  \n",
    "#      3698\n",
    "status1_down_1=(pv_type==(1,1,-1,-1))\n",
    "\n",
    "#      3701 \n",
    "# 3600 \n",
    "# 3699 3699\n",
    "status1_up_hf=(pv_type==(2,1,1,0))\n",
    "#      3770\n",
    "# 3769 3769  \n",
    "# 3768 \n",
    "status1_up_1=(pv_type==(1,1,1,1))"
   ]
  },
  {
   "cell_type": "code",
   "execution_count": 298,
   "id": "3f51ef5d",
   "metadata": {},
   "outputs": [],
   "source": [
    "# 3700 3700\n",
    "# 3699 3699\n",
    "status2=(pv_type==(2,2,0,0))\n",
    "# 3700 3700\n",
    "# 3699 \n",
    "#      3698\n",
    "status2_down_hf=(pv_type==(1,2,-1,0))\n",
    "# 3700 \n",
    "# 3699 3699  \n",
    "#      3698\n",
    "status2_down_1=(pv_type==(2,2,-1,-1))\n",
    "status2_down_1hf=(pv_type==(1,2,-2,-1))\n",
    "\n",
    "#      3701 \n",
    "# 3600 \n",
    "# 3699 3699\n",
    "status2_up_hf=(pv_type==(1,2,0,1))\n",
    "#      3770\n",
    "# 3769 3769  \n",
    "# 3768 \n",
    "status2_up_1=(pv_type==(2,2,1,1))\n",
    "status2_up_1hf=(pv_type==(1,2,1,2))"
   ]
  },
  {
   "cell_type": "code",
   "execution_count": 202,
   "id": "8749a891",
   "metadata": {
    "collapsed": true
   },
   "outputs": [
    {
     "data": {
      "text/plain": [
       "(1, 1, -4, -4)         1\n",
       "(1, 1, -3, -3)         3\n",
       "(1, 1, -2, -2)        69\n",
       "(1, 1, -1, -1)     14969\n",
       "(1, 1, 0, 0)      424053\n",
       "(1, 1, 1, 1)       15017\n",
       "(1, 1, 2, 2)          54\n",
       "(1, 1, 3, 3)           5\n",
       "(1, 1, 4, 4)           1\n",
       "(1, 1, 5, 5)           1\n",
       "(2, 1, -5, -6)         1\n",
       "(2, 1, -3, -4)         1\n",
       "(2, 1, -1, -2)        18\n",
       "(2, 1, 0, -1)       1553\n",
       "(2, 1, 1, 0)        1559\n",
       "(2, 1, 2, 1)          25\n",
       "(2, 2, 0, 0)           4\n",
       "(3, 1, 0, -2)          2\n",
       "(3, 1, 3, 1)           1\n",
       "(3, 3, 0, 0)           1\n",
       "(4, 4, 0, 0)           4\n",
       "(5, 5, 0, 0)           1\n",
       "(6, 6, 0, 0)           1\n",
       "dtype: int64"
      ]
     },
     "metadata": {},
     "output_type": "display_data"
    },
    {
     "data": {
      "text/plain": [
       "(1, 2, -3, -2)       1\n",
       "(1, 2, -2, -1)       7\n",
       "(1, 2, -1, 0)     1407\n",
       "(1, 2, 0, 1)       363\n",
       "(1, 2, 1, 2)        11\n",
       "(2, 2, -1, -1)       2\n",
       "(2, 2, 0, 0)       120\n",
       "(2, 2, 1, 1)         2\n",
       "dtype: int64"
      ]
     },
     "metadata": {},
     "output_type": "display_data"
    },
    {
     "data": {
      "text/plain": [
       "(1, 1, -3, -3)        1\n",
       "(1, 1, -2, -2)        5\n",
       "(1, 1, -1, -1)      288\n",
       "(1, 1, 0, 0)      14907\n",
       "(1, 1, 1, 1)       1440\n",
       "(1, 1, 2, 2)         40\n",
       "(2, 1, -1, -2)        8\n",
       "(2, 1, 0, -1)        45\n",
       "(2, 1, 1, 0)        229\n",
       "(2, 1, 2, 1)         11\n",
       "(2, 1, 3, 2)          1\n",
       "(2, 2, 0, 0)          2\n",
       "(3, 1, -1, -3)        1\n",
       "dtype: int64"
      ]
     },
     "metadata": {},
     "output_type": "display_data"
    }
   ],
   "source": [
    "display(pv_type.loc[status1.shift(1).fillna(False)].value_counts().sort_index())\n",
    "display(pv_type.loc[status1_down_hf.shift(1).fillna(False)].value_counts().sort_index())\n",
    "display(pv_type.loc[status1_down_1.shift(1).fillna(False)].value_counts().sort_index())"
   ]
  },
  {
   "cell_type": "code",
   "execution_count": 204,
   "id": "dbdbfd48",
   "metadata": {
    "collapsed": true
   },
   "outputs": [
    {
     "data": {
      "text/plain": [
       "(1, 2, -4, -3)       1\n",
       "(1, 2, -2, -1)      12\n",
       "(1, 2, -1, 0)      368\n",
       "(1, 2, 0, 1)      1396\n",
       "(1, 2, 1, 2)        15\n",
       "(2, 2, -2, -2)       1\n",
       "(2, 2, -1, -1)       1\n",
       "(2, 2, 0, 0)       103\n",
       "(2, 2, 1, 1)         3\n",
       "dtype: int64"
      ]
     },
     "metadata": {},
     "output_type": "display_data"
    },
    {
     "data": {
      "text/plain": [
       "(1, 1, -2, -2)       36\n",
       "(1, 1, -1, -1)     1372\n",
       "(1, 1, 0, 0)      15107\n",
       "(1, 1, 1, 1)        321\n",
       "(1, 1, 2, 2)          9\n",
       "(1, 1, 3, 3)          1\n",
       "(2, 1, -1, -2)       13\n",
       "(2, 1, 0, -1)       242\n",
       "(2, 1, 1, 0)         45\n",
       "(2, 1, 2, 1)          3\n",
       "(2, 1, 3, 2)          2\n",
       "(2, 1, 4, 3)          1\n",
       "(2, 2, 0, 0)          1\n",
       "(3, 1, 3, 1)          2\n",
       "dtype: int64"
      ]
     },
     "metadata": {},
     "output_type": "display_data"
    }
   ],
   "source": [
    "display(pv_type.loc[status1_up_hf.shift(1).fillna(False)].value_counts().sort_index())\n",
    "display(pv_type.loc[status1_up_1.shift(1).fillna(False)].value_counts().sort_index())"
   ]
  },
  {
   "cell_type": "code",
   "execution_count": 208,
   "id": "3bee5a38",
   "metadata": {},
   "outputs": [
    {
     "data": {
      "text/plain": [
       "(1, 1, -1, -1)     81\n",
       "(1, 1, 0, 0)      247\n",
       "(1, 1, 1, 1)        8\n",
       "(2, 1, 0, -1)      26\n",
       "(2, 1, 2, 1)        1\n",
       "dtype: int64"
      ]
     },
     "execution_count": 208,
     "metadata": {},
     "output_type": "execute_result"
    }
   ],
   "source": [
    "pv_type.loc[(status1_down_hf.shift(2)&status2_up_hf.shift(1)).fillna(False)].value_counts().sort_index()"
   ]
  },
  {
   "cell_type": "code",
   "execution_count": null,
   "id": "8ccfab98",
   "metadata": {},
   "outputs": [],
   "source": [
    "pv_type.loc[(status1_down_hf.shift(2)&status2_up_hf.shift(1)).fillna(False)].value_counts().sort_index()"
   ]
  },
  {
   "cell_type": "markdown",
   "id": "8062d3e2",
   "metadata": {},
   "source": [
    "# 情况 DOWN1 衍生特征"
   ]
  },
  {
   "cell_type": "code",
   "execution_count": 299,
   "id": "bb13d184",
   "metadata": {},
   "outputs": [],
   "source": [
    "from common.dict_operator import DFPos\n",
    "def exch_span(x):\n",
    "    x1=DFPos(x)\n",
    "    if len(x1)==0:\n",
    "        return [None,None]\n",
    "    return [max(x1),min(x1)]"
   ]
  },
  {
   "cell_type": "code",
   "execution_count": 300,
   "id": "8a87bfe3",
   "metadata": {},
   "outputs": [],
   "source": [
    "df1=df[status1_down_1]"
   ]
  },
  {
   "cell_type": "code",
   "execution_count": 302,
   "id": "06549c0f",
   "metadata": {},
   "outputs": [],
   "source": [
    "exch_m=pd.DataFrame(df1[\"D_exch\"].apply(exch_span).tolist(),index=df1.index)"
   ]
  },
  {
   "cell_type": "code",
   "execution_count": 303,
   "id": "d2e8636d",
   "metadata": {
    "collapsed": true
   },
   "outputs": [
    {
     "data": {
      "text/plain": [
       "(5.0, 0.0)              1\n",
       "(5.0, -1.0)             2\n",
       "(4.0, 0.0)              1\n",
       "(4.0, -1.0)             3\n",
       "(3.0, 0.0)              3\n",
       "(3.0, -1.0)            10\n",
       "(3.0, -3.0)             1\n",
       "(2.0, 0.0)             71\n",
       "(2.0, -1.0)           137\n",
       "(2.0, -2.0)            10\n",
       "(2.0, -3.0)             1\n",
       "(1.0, 1.0)             34\n",
       "(1.0, 0.0)          31305\n",
       "(1.0, -1.0)         14790\n",
       "(1.0, -2.0)            46\n",
       "(1.0, -3.0)             6\n",
       "(1.0, -4.0)             1\n",
       "(0.0, 0.0)          61455\n",
       "(0.0, -1.0)         42214\n",
       "(0.0, -2.0)           182\n",
       "(0.0, -3.0)            14\n",
       "(0.0, -4.0)             6\n",
       "(0.0, -5.0)             1\n",
       "(-1.0, -1.0)           60\n",
       "(-1.0, -2.0)            1\n",
       "(-999.0, -999.0)      103\n",
       "dtype: int64"
      ]
     },
     "execution_count": 303,
     "metadata": {},
     "output_type": "execute_result"
    }
   ],
   "source": [
    "# 99.99% 都属于4种情况\n",
    "(exch_m.T-df1[\"AP1\"]).T.fillna(-999).apply(lambda x:tuple(x),axis=1).value_counts().sort_index(ascending=False)"
   ]
  },
  {
   "cell_type": "code",
   "execution_count": 304,
   "id": "d543ab82",
   "metadata": {},
   "outputs": [],
   "source": [
    "D_exch=pd.DataFrame(df1.apply(lambda x:(\n",
    "    x[\"D_exch\"].get(x[\"AP1\"]+2,0),\n",
    "    x[\"D_exch\"].get(x[\"AP1\"]+1,0),\n",
    "    x[\"D_exch\"].get(x[\"AP1\"],0),\n",
    "    x[\"D_exch\"].get(x[\"AP1\"]-1,0),\n",
    "    x[\"D_exch\"].get(x[\"AP1\"]-2,0)    \n",
    "),axis=1).tolist(),index=df1.index)"
   ]
  },
  {
   "cell_type": "code",
   "execution_count": 305,
   "id": "d7249c4f",
   "metadata": {},
   "outputs": [],
   "source": [
    "D_ask=pd.DataFrame(df1.apply(lambda x:(\n",
    "    x[\"D_ask\"].get(x[\"AP1\"]+2,0),\n",
    "    x[\"D_ask\"].get(x[\"AP1\"]+1,0),\n",
    "    x[\"D_ask\"].get(x[\"AP1\"],0),\n",
    "    x[\"D_ask\"].get(x[\"AP1\"]-1,0),\n",
    "    x[\"D_ask\"].get(x[\"AP1\"]-2,0)    \n",
    "),axis=1).tolist(),index=df1.index)\n",
    "\n",
    "D_ask_last=pd.DataFrame(df1.apply(lambda x:(\n",
    "    x[\"D_ask_last\"].get(x[\"AP1\"]+2,0),\n",
    "    x[\"D_ask_last\"].get(x[\"AP1\"]+1,0),\n",
    "    x[\"D_ask_last\"].get(x[\"AP1\"],0),\n",
    "    x[\"D_ask_last\"].get(x[\"AP1\"]-1,0),\n",
    "    x[\"D_ask_last\"].get(x[\"AP1\"]-2,0)    \n",
    "),axis=1).tolist(),index=df1.index)"
   ]
  },
  {
   "cell_type": "code",
   "execution_count": 306,
   "id": "561e907b",
   "metadata": {},
   "outputs": [],
   "source": [
    "D_bid=pd.DataFrame(df1.apply(lambda x:(\n",
    "    x[\"D_bid\"].get(x[\"AP1\"]+2,0),\n",
    "    x[\"D_bid\"].get(x[\"AP1\"]+1,0),\n",
    "    x[\"D_bid\"].get(x[\"AP1\"],0),\n",
    "    x[\"D_bid\"].get(x[\"AP1\"]-1,0),\n",
    "    x[\"D_bid\"].get(x[\"AP1\"]-2,0)    \n",
    "),axis=1).tolist(),index=df1.index)\n",
    "\n",
    "D_bid_last=pd.DataFrame(df1.apply(lambda x:(\n",
    "    x[\"D_bid_last\"].get(x[\"AP1\"]+2,0),\n",
    "    x[\"D_bid_last\"].get(x[\"AP1\"]+1,0),\n",
    "    x[\"D_bid_last\"].get(x[\"AP1\"],0),\n",
    "    x[\"D_bid_last\"].get(x[\"AP1\"]-1,0),\n",
    "    x[\"D_bid_last\"].get(x[\"AP1\"]-2,0)    \n",
    "),axis=1).tolist(),index=df1.index)"
   ]
  },
  {
   "cell_type": "code",
   "execution_count": 309,
   "id": "3bece0e2",
   "metadata": {},
   "outputs": [],
   "source": [
    "D_ask_add=(D_exch+D_ask-D_ask_last)\n",
    "D_ask_add_neg=D_ask_add.clip(None,0)\n",
    "D_ask_add_pos=D_ask_add.clip(0,None)"
   ]
  },
  {
   "cell_type": "code",
   "execution_count": 310,
   "id": "95d883bf",
   "metadata": {},
   "outputs": [],
   "source": [
    "D_bid_add=(D_exch+D_bid-D_bid_last)\n",
    "D_bid_add_neg=D_bid_add.clip(None,0)\n",
    "D_bid_add_pos=D_bid_add.clip(0,None)"
   ]
  },
  {
   "cell_type": "code",
   "execution_count": 319,
   "id": "b62519f6",
   "metadata": {},
   "outputs": [],
   "source": [
    "dfx=pd.concat([D_ask_last.iloc[:,:2],\n",
    "D_bid_last.iloc[:,2:],\n",
    "D_exch,\n",
    "D_ask_add_neg.iloc[:,:2],\n",
    "D_ask_add_pos,\n",
    "D_bid_add_neg.iloc[:,2:],\n",
    "D_bid_add_pos],axis=1)"
   ]
  },
  {
   "cell_type": "code",
   "execution_count": 456,
   "id": "1a9bff5c",
   "metadata": {},
   "outputs": [],
   "source": [
    "dfx.columns=range(dfx.shape[1])\n",
    "#dfy=df1[\"MRM1\"]\n",
    "dfy=df1[\"MRT10\"]"
   ]
  },
  {
   "cell_type": "code",
   "execution_count": 457,
   "id": "7fc9c0a5",
   "metadata": {},
   "outputs": [],
   "source": [
    "cond=(~dfy.isnull())"
   ]
  },
  {
   "cell_type": "code",
   "execution_count": 458,
   "id": "a44522f4",
   "metadata": {},
   "outputs": [],
   "source": [
    "dfx1=dfx.loc[cond]\n",
    "dfx1=(dfx1-dfx1.mean())/dfx1.std()\n",
    "dfy1=dfy.loc[cond]"
   ]
  },
  {
   "cell_type": "code",
   "execution_count": 459,
   "id": "5ba9d6b1",
   "metadata": {},
   "outputs": [],
   "source": [
    "from sklearn.linear_model import Lasso"
   ]
  },
  {
   "cell_type": "code",
   "execution_count": 460,
   "id": "70033e7c",
   "metadata": {},
   "outputs": [],
   "source": [
    "las=Lasso(alpha=0.1)"
   ]
  },
  {
   "cell_type": "code",
   "execution_count": 461,
   "id": "852f08f4",
   "metadata": {},
   "outputs": [
    {
     "data": {
      "text/plain": [
       "Lasso(alpha=0.1)"
      ]
     },
     "execution_count": 461,
     "metadata": {},
     "output_type": "execute_result"
    }
   ],
   "source": [
    "las.fit(dfx1,dfy1)"
   ]
  },
  {
   "cell_type": "code",
   "execution_count": 462,
   "id": "364b11ec",
   "metadata": {},
   "outputs": [],
   "source": [
    "target_y1=las.predict(dfx1)"
   ]
  },
  {
   "cell_type": "code",
   "execution_count": 463,
   "id": "429ea038",
   "metadata": {},
   "outputs": [
    {
     "data": {
      "text/plain": [
       "array([0.0518783 , 0.04030145, 0.10692741, ..., 0.25624517, 0.22151462,\n",
       "       0.2529375 ])"
      ]
     },
     "execution_count": 463,
     "metadata": {},
     "output_type": "execute_result"
    }
   ],
   "source": [
    "target_y1"
   ]
  },
  {
   "cell_type": "code",
   "execution_count": 464,
   "id": "073ca9cf",
   "metadata": {},
   "outputs": [],
   "source": [
    "z=pd.DataFrame({0:target_y1,1:dfy1.values})"
   ]
  },
  {
   "cell_type": "code",
   "execution_count": 465,
   "id": "f688a9eb",
   "metadata": {},
   "outputs": [
    {
     "data": {
      "text/html": [
       "<div>\n",
       "<style scoped>\n",
       "    .dataframe tbody tr th:only-of-type {\n",
       "        vertical-align: middle;\n",
       "    }\n",
       "\n",
       "    .dataframe tbody tr th {\n",
       "        vertical-align: top;\n",
       "    }\n",
       "\n",
       "    .dataframe thead th {\n",
       "        text-align: right;\n",
       "    }\n",
       "</style>\n",
       "<table border=\"1\" class=\"dataframe\">\n",
       "  <thead>\n",
       "    <tr style=\"text-align: right;\">\n",
       "      <th></th>\n",
       "      <th>0</th>\n",
       "      <th>1</th>\n",
       "    </tr>\n",
       "  </thead>\n",
       "  <tbody>\n",
       "    <tr>\n",
       "      <th>0</th>\n",
       "      <td>1.000000</td>\n",
       "      <td>0.150162</td>\n",
       "    </tr>\n",
       "    <tr>\n",
       "      <th>1</th>\n",
       "      <td>0.150162</td>\n",
       "      <td>1.000000</td>\n",
       "    </tr>\n",
       "  </tbody>\n",
       "</table>\n",
       "</div>"
      ],
      "text/plain": [
       "          0         1\n",
       "0  1.000000  0.150162\n",
       "1  0.150162  1.000000"
      ]
     },
     "execution_count": 465,
     "metadata": {},
     "output_type": "execute_result"
    }
   ],
   "source": [
    "z.corr()"
   ]
  },
  {
   "cell_type": "code",
   "execution_count": 466,
   "id": "740a68ef",
   "metadata": {
    "collapsed": true
   },
   "outputs": [
    {
     "data": {
      "text/html": [
       "<div>\n",
       "<style scoped>\n",
       "    .dataframe tbody tr th:only-of-type {\n",
       "        vertical-align: middle;\n",
       "    }\n",
       "\n",
       "    .dataframe tbody tr th {\n",
       "        vertical-align: top;\n",
       "    }\n",
       "\n",
       "    .dataframe thead th {\n",
       "        text-align: right;\n",
       "    }\n",
       "</style>\n",
       "<table border=\"1\" class=\"dataframe\">\n",
       "  <thead>\n",
       "    <tr style=\"text-align: right;\">\n",
       "      <th></th>\n",
       "      <th>bin_name</th>\n",
       "      <th>cnt</th>\n",
       "      <th>mean</th>\n",
       "    </tr>\n",
       "  </thead>\n",
       "  <tbody>\n",
       "    <tr>\n",
       "      <th>0</th>\n",
       "      <td>[-1.267, 0.082]</td>\n",
       "      <td>3016.0</td>\n",
       "      <td>-0.370192</td>\n",
       "    </tr>\n",
       "    <tr>\n",
       "      <th>1</th>\n",
       "      <td>(0.082, 0.119]</td>\n",
       "      <td>3013.0</td>\n",
       "      <td>-0.169598</td>\n",
       "    </tr>\n",
       "    <tr>\n",
       "      <th>2</th>\n",
       "      <td>(0.119, 0.136]</td>\n",
       "      <td>3012.0</td>\n",
       "      <td>-0.031541</td>\n",
       "    </tr>\n",
       "    <tr>\n",
       "      <th>3</th>\n",
       "      <td>(0.136, 0.145]</td>\n",
       "      <td>3084.0</td>\n",
       "      <td>0.006161</td>\n",
       "    </tr>\n",
       "    <tr>\n",
       "      <th>4</th>\n",
       "      <td>(0.145, 0.15]</td>\n",
       "      <td>2909.0</td>\n",
       "      <td>0.079409</td>\n",
       "    </tr>\n",
       "    <tr>\n",
       "      <th>5</th>\n",
       "      <td>(0.15, 0.161]</td>\n",
       "      <td>3057.0</td>\n",
       "      <td>0.012103</td>\n",
       "    </tr>\n",
       "    <tr>\n",
       "      <th>6</th>\n",
       "      <td>(0.161, 0.17]</td>\n",
       "      <td>2973.0</td>\n",
       "      <td>0.065758</td>\n",
       "    </tr>\n",
       "    <tr>\n",
       "      <th>7</th>\n",
       "      <td>(0.17, 0.176]</td>\n",
       "      <td>3033.0</td>\n",
       "      <td>0.075668</td>\n",
       "    </tr>\n",
       "    <tr>\n",
       "      <th>8</th>\n",
       "      <td>(0.176, 0.182]</td>\n",
       "      <td>3050.0</td>\n",
       "      <td>0.093115</td>\n",
       "    </tr>\n",
       "    <tr>\n",
       "      <th>9</th>\n",
       "      <td>(0.182, 0.188]</td>\n",
       "      <td>3056.0</td>\n",
       "      <td>0.128599</td>\n",
       "    </tr>\n",
       "    <tr>\n",
       "      <th>10</th>\n",
       "      <td>(0.188, 0.192]</td>\n",
       "      <td>2956.0</td>\n",
       "      <td>0.132104</td>\n",
       "    </tr>\n",
       "    <tr>\n",
       "      <th>11</th>\n",
       "      <td>(0.192, 0.196]</td>\n",
       "      <td>2963.0</td>\n",
       "      <td>0.168579</td>\n",
       "    </tr>\n",
       "    <tr>\n",
       "      <th>12</th>\n",
       "      <td>(0.196, 0.199]</td>\n",
       "      <td>3006.0</td>\n",
       "      <td>0.153027</td>\n",
       "    </tr>\n",
       "    <tr>\n",
       "      <th>13</th>\n",
       "      <td>(0.199, 0.203]</td>\n",
       "      <td>2993.0</td>\n",
       "      <td>0.157200</td>\n",
       "    </tr>\n",
       "    <tr>\n",
       "      <th>14</th>\n",
       "      <td>(0.203, 0.207]</td>\n",
       "      <td>3112.0</td>\n",
       "      <td>0.140103</td>\n",
       "    </tr>\n",
       "    <tr>\n",
       "      <th>15</th>\n",
       "      <td>(0.207, 0.21]</td>\n",
       "      <td>2888.0</td>\n",
       "      <td>0.150970</td>\n",
       "    </tr>\n",
       "    <tr>\n",
       "      <th>16</th>\n",
       "      <td>(0.21, 0.213]</td>\n",
       "      <td>3198.0</td>\n",
       "      <td>0.176673</td>\n",
       "    </tr>\n",
       "    <tr>\n",
       "      <th>17</th>\n",
       "      <td>(0.213, 0.216]</td>\n",
       "      <td>3013.0</td>\n",
       "      <td>0.186193</td>\n",
       "    </tr>\n",
       "    <tr>\n",
       "      <th>18</th>\n",
       "      <td>(0.216, 0.218]</td>\n",
       "      <td>2868.0</td>\n",
       "      <td>0.216353</td>\n",
       "    </tr>\n",
       "    <tr>\n",
       "      <th>19</th>\n",
       "      <td>(0.218, 0.22]</td>\n",
       "      <td>3121.0</td>\n",
       "      <td>0.289170</td>\n",
       "    </tr>\n",
       "    <tr>\n",
       "      <th>20</th>\n",
       "      <td>(0.22, 0.222]</td>\n",
       "      <td>3011.0</td>\n",
       "      <td>0.178678</td>\n",
       "    </tr>\n",
       "    <tr>\n",
       "      <th>21</th>\n",
       "      <td>(0.222, 0.225]</td>\n",
       "      <td>2946.0</td>\n",
       "      <td>0.215037</td>\n",
       "    </tr>\n",
       "    <tr>\n",
       "      <th>22</th>\n",
       "      <td>(0.225, 0.228]</td>\n",
       "      <td>3055.0</td>\n",
       "      <td>0.247954</td>\n",
       "    </tr>\n",
       "    <tr>\n",
       "      <th>23</th>\n",
       "      <td>(0.228, 0.23]</td>\n",
       "      <td>3020.0</td>\n",
       "      <td>0.217715</td>\n",
       "    </tr>\n",
       "    <tr>\n",
       "      <th>24</th>\n",
       "      <td>(0.23, 0.232]</td>\n",
       "      <td>3025.0</td>\n",
       "      <td>0.191074</td>\n",
       "    </tr>\n",
       "    <tr>\n",
       "      <th>25</th>\n",
       "      <td>(0.232, 0.234]</td>\n",
       "      <td>2944.0</td>\n",
       "      <td>0.258492</td>\n",
       "    </tr>\n",
       "    <tr>\n",
       "      <th>26</th>\n",
       "      <td>(0.234, 0.236]</td>\n",
       "      <td>2909.0</td>\n",
       "      <td>0.232382</td>\n",
       "    </tr>\n",
       "    <tr>\n",
       "      <th>27</th>\n",
       "      <td>(0.236, 0.238]</td>\n",
       "      <td>2995.0</td>\n",
       "      <td>0.264441</td>\n",
       "    </tr>\n",
       "    <tr>\n",
       "      <th>28</th>\n",
       "      <td>(0.238, 0.24]</td>\n",
       "      <td>3226.0</td>\n",
       "      <td>0.245040</td>\n",
       "    </tr>\n",
       "    <tr>\n",
       "      <th>29</th>\n",
       "      <td>(0.24, 0.241]</td>\n",
       "      <td>2751.0</td>\n",
       "      <td>0.260632</td>\n",
       "    </tr>\n",
       "    <tr>\n",
       "      <th>30</th>\n",
       "      <td>(0.241, 0.243]</td>\n",
       "      <td>3335.0</td>\n",
       "      <td>0.313943</td>\n",
       "    </tr>\n",
       "    <tr>\n",
       "      <th>31</th>\n",
       "      <td>(0.243, 0.244]</td>\n",
       "      <td>2724.0</td>\n",
       "      <td>0.306535</td>\n",
       "    </tr>\n",
       "    <tr>\n",
       "      <th>32</th>\n",
       "      <td>(0.244, 0.246]</td>\n",
       "      <td>3222.0</td>\n",
       "      <td>0.309745</td>\n",
       "    </tr>\n",
       "    <tr>\n",
       "      <th>33</th>\n",
       "      <td>(0.246, 0.247]</td>\n",
       "      <td>2936.0</td>\n",
       "      <td>0.304326</td>\n",
       "    </tr>\n",
       "    <tr>\n",
       "      <th>34</th>\n",
       "      <td>(0.247, 0.249]</td>\n",
       "      <td>3096.0</td>\n",
       "      <td>0.303133</td>\n",
       "    </tr>\n",
       "    <tr>\n",
       "      <th>35</th>\n",
       "      <td>(0.249, 0.25]</td>\n",
       "      <td>2824.0</td>\n",
       "      <td>0.319051</td>\n",
       "    </tr>\n",
       "    <tr>\n",
       "      <th>36</th>\n",
       "      <td>(0.25, 0.252]</td>\n",
       "      <td>3263.0</td>\n",
       "      <td>0.315354</td>\n",
       "    </tr>\n",
       "    <tr>\n",
       "      <th>37</th>\n",
       "      <td>(0.252, 0.253]</td>\n",
       "      <td>3071.0</td>\n",
       "      <td>0.329697</td>\n",
       "    </tr>\n",
       "    <tr>\n",
       "      <th>38</th>\n",
       "      <td>(0.253, 0.255]</td>\n",
       "      <td>2864.0</td>\n",
       "      <td>0.320356</td>\n",
       "    </tr>\n",
       "    <tr>\n",
       "      <th>39</th>\n",
       "      <td>(0.255, 0.256]</td>\n",
       "      <td>2943.0</td>\n",
       "      <td>0.322800</td>\n",
       "    </tr>\n",
       "    <tr>\n",
       "      <th>40</th>\n",
       "      <td>(0.256, 0.257]</td>\n",
       "      <td>3427.0</td>\n",
       "      <td>0.346951</td>\n",
       "    </tr>\n",
       "    <tr>\n",
       "      <th>41</th>\n",
       "      <td>(0.257, 0.258]</td>\n",
       "      <td>2957.0</td>\n",
       "      <td>0.305208</td>\n",
       "    </tr>\n",
       "    <tr>\n",
       "      <th>42</th>\n",
       "      <td>(0.258, 0.259]</td>\n",
       "      <td>2540.0</td>\n",
       "      <td>0.323622</td>\n",
       "    </tr>\n",
       "    <tr>\n",
       "      <th>43</th>\n",
       "      <td>(0.259, 0.26]</td>\n",
       "      <td>3396.0</td>\n",
       "      <td>0.369847</td>\n",
       "    </tr>\n",
       "    <tr>\n",
       "      <th>44</th>\n",
       "      <td>(0.26, 0.261]</td>\n",
       "      <td>2856.0</td>\n",
       "      <td>0.366947</td>\n",
       "    </tr>\n",
       "    <tr>\n",
       "      <th>45</th>\n",
       "      <td>(0.261, 0.262]</td>\n",
       "      <td>3051.0</td>\n",
       "      <td>0.383481</td>\n",
       "    </tr>\n",
       "    <tr>\n",
       "      <th>46</th>\n",
       "      <td>(0.262, 0.263]</td>\n",
       "      <td>3020.0</td>\n",
       "      <td>0.402152</td>\n",
       "    </tr>\n",
       "    <tr>\n",
       "      <th>47</th>\n",
       "      <td>(0.263, 0.264]</td>\n",
       "      <td>3120.0</td>\n",
       "      <td>0.422115</td>\n",
       "    </tr>\n",
       "    <tr>\n",
       "      <th>48</th>\n",
       "      <td>(0.264, 0.265]</td>\n",
       "      <td>2775.0</td>\n",
       "      <td>0.422523</td>\n",
       "    </tr>\n",
       "    <tr>\n",
       "      <th>49</th>\n",
       "      <td>(0.265, 0.267]</td>\n",
       "      <td>2711.0</td>\n",
       "      <td>0.420878</td>\n",
       "    </tr>\n",
       "  </tbody>\n",
       "</table>\n",
       "</div>"
      ],
      "text/plain": [
       "           bin_name     cnt      mean\n",
       "0   [-1.267, 0.082]  3016.0 -0.370192\n",
       "1    (0.082, 0.119]  3013.0 -0.169598\n",
       "2    (0.119, 0.136]  3012.0 -0.031541\n",
       "3    (0.136, 0.145]  3084.0  0.006161\n",
       "4     (0.145, 0.15]  2909.0  0.079409\n",
       "5     (0.15, 0.161]  3057.0  0.012103\n",
       "6     (0.161, 0.17]  2973.0  0.065758\n",
       "7     (0.17, 0.176]  3033.0  0.075668\n",
       "8    (0.176, 0.182]  3050.0  0.093115\n",
       "9    (0.182, 0.188]  3056.0  0.128599\n",
       "10   (0.188, 0.192]  2956.0  0.132104\n",
       "11   (0.192, 0.196]  2963.0  0.168579\n",
       "12   (0.196, 0.199]  3006.0  0.153027\n",
       "13   (0.199, 0.203]  2993.0  0.157200\n",
       "14   (0.203, 0.207]  3112.0  0.140103\n",
       "15    (0.207, 0.21]  2888.0  0.150970\n",
       "16    (0.21, 0.213]  3198.0  0.176673\n",
       "17   (0.213, 0.216]  3013.0  0.186193\n",
       "18   (0.216, 0.218]  2868.0  0.216353\n",
       "19    (0.218, 0.22]  3121.0  0.289170\n",
       "20    (0.22, 0.222]  3011.0  0.178678\n",
       "21   (0.222, 0.225]  2946.0  0.215037\n",
       "22   (0.225, 0.228]  3055.0  0.247954\n",
       "23    (0.228, 0.23]  3020.0  0.217715\n",
       "24    (0.23, 0.232]  3025.0  0.191074\n",
       "25   (0.232, 0.234]  2944.0  0.258492\n",
       "26   (0.234, 0.236]  2909.0  0.232382\n",
       "27   (0.236, 0.238]  2995.0  0.264441\n",
       "28    (0.238, 0.24]  3226.0  0.245040\n",
       "29    (0.24, 0.241]  2751.0  0.260632\n",
       "30   (0.241, 0.243]  3335.0  0.313943\n",
       "31   (0.243, 0.244]  2724.0  0.306535\n",
       "32   (0.244, 0.246]  3222.0  0.309745\n",
       "33   (0.246, 0.247]  2936.0  0.304326\n",
       "34   (0.247, 0.249]  3096.0  0.303133\n",
       "35    (0.249, 0.25]  2824.0  0.319051\n",
       "36    (0.25, 0.252]  3263.0  0.315354\n",
       "37   (0.252, 0.253]  3071.0  0.329697\n",
       "38   (0.253, 0.255]  2864.0  0.320356\n",
       "39   (0.255, 0.256]  2943.0  0.322800\n",
       "40   (0.256, 0.257]  3427.0  0.346951\n",
       "41   (0.257, 0.258]  2957.0  0.305208\n",
       "42   (0.258, 0.259]  2540.0  0.323622\n",
       "43    (0.259, 0.26]  3396.0  0.369847\n",
       "44    (0.26, 0.261]  2856.0  0.366947\n",
       "45   (0.261, 0.262]  3051.0  0.383481\n",
       "46   (0.262, 0.263]  3020.0  0.402152\n",
       "47   (0.263, 0.264]  3120.0  0.422115\n",
       "48   (0.264, 0.265]  2775.0  0.422523\n",
       "49   (0.265, 0.267]  2711.0  0.420878"
      ]
     },
     "execution_count": 466,
     "metadata": {},
     "output_type": "execute_result"
    }
   ],
   "source": [
    "z.b2(0,1,quant=50)"
   ]
  },
  {
   "cell_type": "code",
   "execution_count": 481,
   "id": "49ecbc97",
   "metadata": {
    "collapsed": true
   },
   "outputs": [
    {
     "data": {
      "text/plain": [
       "8          (1, 1, -1, -1)\n",
       "9          (1, 1, -1, -1)\n",
       "11         (1, 1, -1, -1)\n",
       "13           (1, 1, 1, 1)\n",
       "14           (1, 1, 1, 1)\n",
       "                ...      \n",
       "4152500    (1, 1, -1, -1)\n",
       "4152501      (1, 1, 1, 1)\n",
       "4152504    (1, 1, -1, -1)\n",
       "4152507    (1, 1, -1, -1)\n",
       "4152510      (1, 1, 1, 1)\n",
       "Length: 301431, dtype: object"
      ]
     },
     "execution_count": 481,
     "metadata": {},
     "output_type": "execute_result"
    }
   ],
   "source": [
    "tt"
   ]
  },
  {
   "cell_type": "code",
   "execution_count": 483,
   "id": "42ba246b",
   "metadata": {},
   "outputs": [],
   "source": [
    "tt1=pv_type.apply(lambda x:1 if x==(1,1,1,1) else -1 if x==(1,1,-1,-1) else 0)"
   ]
  },
  {
   "cell_type": "code",
   "execution_count": 487,
   "id": "8b040f91",
   "metadata": {},
   "outputs": [],
   "source": [
    "_curr=1\n",
    "_cnt=0\n",
    "pos_cnt=0\n",
    "neg_cnt=0\n",
    "pos=0\n",
    "neg=0\n",
    "for i in tt1:\n",
    "    if i==0:\n",
    "        _cnt+=1\n",
    "    else:\n",
    "        if i*_curr==1:\n",
    "            pos+=_cnt\n",
    "            pos_cnt+=1\n",
    "        else:\n",
    "            neg+=_cnt\n",
    "            neg_cnt+=1\n",
    "        _curr=i\n",
    "        _cnt=0\n",
    "                "
   ]
  },
  {
   "cell_type": "code",
   "execution_count": 492,
   "id": "094129f7",
   "metadata": {},
   "outputs": [
    {
     "data": {
      "text/plain": [
       "0.38519926616704986"
      ]
     },
     "execution_count": 492,
     "metadata": {},
     "output_type": "execute_result"
    }
   ],
   "source": [
    "pos_cnt/(pos_cnt+neg_cnt)"
   ]
  },
  {
   "cell_type": "code",
   "execution_count": 489,
   "id": "54f14d09",
   "metadata": {},
   "outputs": [
    {
     "data": {
      "text/plain": [
       "16.140985780847636"
      ]
     },
     "execution_count": 489,
     "metadata": {},
     "output_type": "execute_result"
    }
   ],
   "source": [
    "pos/pos_cnt"
   ]
  },
  {
   "cell_type": "code",
   "execution_count": 490,
   "id": "a6eea3c7",
   "metadata": {},
   "outputs": [
    {
     "data": {
      "text/plain": [
       "10.667677530757608"
      ]
     },
     "execution_count": 490,
     "metadata": {},
     "output_type": "execute_result"
    }
   ],
   "source": [
    "neg/neg_cnt"
   ]
  },
  {
   "cell_type": "code",
   "execution_count": 480,
   "id": "43fcf80d",
   "metadata": {},
   "outputs": [
    {
     "data": {
      "text/plain": [
       "-1.0    185319\n",
       " 1.0    116111\n",
       "dtype: int64"
      ]
     },
     "execution_count": 480,
     "metadata": {},
     "output_type": "execute_result"
    }
   ],
   "source": [
    "(tt1*tt1.shift(1)).value_counts()"
   ]
  },
  {
   "cell_type": "code",
   "execution_count": null,
   "id": "c56acdb8",
   "metadata": {},
   "outputs": [],
   "source": []
  },
  {
   "cell_type": "code",
   "execution_count": 493,
   "id": "4e3f9c03",
   "metadata": {},
   "outputs": [],
   "source": [
    "df2=df[status1]"
   ]
  },
  {
   "cell_type": "code",
   "execution_count": 500,
   "id": "b184169c",
   "metadata": {},
   "outputs": [],
   "source": [
    "test=[j for i in df2[\"D_exch\"].apply(lambda x:list(x.values())).tolist() for j in i]"
   ]
  },
  {
   "cell_type": "code",
   "execution_count": 504,
   "id": "6ea8f731",
   "metadata": {},
   "outputs": [],
   "source": [
    "sb1=pd.Series(test)"
   ]
  },
  {
   "cell_type": "code",
   "execution_count": null,
   "id": "0156f3f3",
   "metadata": {},
   "outputs": [],
   "source": [
    "pd.Series.hist()"
   ]
  },
  {
   "cell_type": "code",
   "execution_count": 518,
   "id": "7af9a4e4",
   "metadata": {},
   "outputs": [
    {
     "data": {
      "text/plain": [
       "<AxesSubplot:>"
      ]
     },
     "execution_count": 518,
     "metadata": {},
     "output_type": "execute_result"
    },
    {
     "data": {
      "image/png": "[encoded data removed]",
      "text/plain": [
       "<Figure size 432x288 with 1 Axes>"
      ]
     },
     "metadata": {
      "needs_background": "light"
     },
     "output_type": "display_data"
    }
   ],
   "source": [
    "sb1.clip(0,300).hist(bins=100)"
   ]
  },
  {
   "cell_type": "code",
   "execution_count": 514,
   "id": "dc9a9a2a",
   "metadata": {},
   "outputs": [
    {
     "ename": "TypeError",
     "evalue": "quantile() got an unexpected keyword argument 'bins'",
     "output_type": "error",
     "traceback": [
      "\u001b[0;31m---------------------------------------------------------------------------\u001b[0m",
      "\u001b[0;31mTypeError\u001b[0m                                 Traceback (most recent call last)",
      "\u001b[0;32m<ipython-input-514-504a5d91ab76>\u001b[0m in \u001b[0;36m<module>\u001b[0;34m\u001b[0m\n\u001b[0;32m----> 1\u001b[0;31m \u001b[0msb1\u001b[0m\u001b[0;34m.\u001b[0m\u001b[0mquantile\u001b[0m\u001b[0;34m(\u001b[0m\u001b[0;34m[\u001b[0m\u001b[0mi\u001b[0m\u001b[0;34m/\u001b[0m\u001b[0;36m100\u001b[0m \u001b[0;32mfor\u001b[0m \u001b[0mi\u001b[0m \u001b[0;32min\u001b[0m \u001b[0mrange\u001b[0m\u001b[0;34m(\u001b[0m\u001b[0;36m101\u001b[0m\u001b[0;34m)\u001b[0m\u001b[0;34m]\u001b[0m\u001b[0;34m,\u001b[0m\u001b[0mbins\u001b[0m\u001b[0;34m=\u001b[0m\u001b[0;36m10\u001b[0m\u001b[0;34m)\u001b[0m\u001b[0;34m\u001b[0m\u001b[0;34m\u001b[0m\u001b[0m\n\u001b[0m",
      "\u001b[0;31mTypeError\u001b[0m: quantile() got an unexpected keyword argument 'bins'"
     ]
    }
   ],
   "source": [
    "sb1.quantile([i/100 for i in range(101)])"
   ]
  },
  {
   "cell_type": "code",
   "execution_count": null,
   "id": "d74d12f2",
   "metadata": {},
   "outputs": [],
   "source": []
  }
 ],
 "metadata": {
  "kernelspec": {
   "display_name": "Python 3",
   "language": "python",
   "name": "python3"
  },
  "language_info": {
   "codemirror_mode": {
    "name": "ipython",
    "version": 3
   },
   "file_extension": ".py",
   "mimetype": "text/x-python",
   "name": "python",
   "nbconvert_exporter": "python",
   "pygments_lexer": "ipython3",
   "version": "3.6.8"
  }
 },
 "nbformat": 4,
 "nbformat_minor": 5
}
